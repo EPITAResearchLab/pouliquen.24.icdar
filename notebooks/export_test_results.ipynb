{
 "cells": [
  {
   "cell_type": "code",
   "execution_count": null,
   "metadata": {},
   "outputs": [],
   "source": [
    "import mlflow\n",
    "import os\n",
    "import pandas as pd\n",
    "import numpy as np"
   ]
  },
  {
   "cell_type": "code",
   "execution_count": null,
   "metadata": {},
   "outputs": [],
   "source": [
    "retrieve_from_mlflow = False\n",
    "save_results_file = \"test_results.csv\""
   ]
  },
  {
   "cell_type": "code",
   "execution_count": null,
   "metadata": {},
   "outputs": [],
   "source": [
    "if retrieve_from_mlflow:\n",
    "    split_path = \"../data/splits_kfold_s0\"\n",
    "    splits = os.listdir(split_path)\n",
    "    mlflow.set_tracking_uri(\"../mlruns\") # local\n",
    "    runs_splits = {}\n",
    "\n",
    "    client = mlflow.MlflowClient()\n",
    "    experiments = []\n",
    "    for split_name in splits:\n",
    "        experiment_name = f\"test_{split_name}\"\n",
    "        current_experiment = dict(client.get_experiment_by_name(experiment_name))\n",
    "        print(\"found\", current_experiment[\"name\"])\n",
    "        experiments.append(current_experiment['experiment_id'])\n",
    "\n",
    "    runs = mlflow.search_runs(experiments, filter_string=\"attributes.status = 'FINISHED'\", order_by=[\"start_time DESC\"])\n",
    "    runs_u = runs.copy()\n",
    "    runs_u[\"task\"] = runs_u[\"params.task_name\"].apply(lambda x: x[:x.rfind(\"_\")])\n",
    "\n",
    "    runs_u[\"decision\"] = runs_u[\"tags.mlflow.runName\"].apply(lambda x: x[:x.find(\"_\")] if x[:x.find(\"_\")] in [\"allvideo\", \"cumulative\"] else \"\")\n",
    "\n",
    "    runs_u_metrics = runs_u[runs_u[\"decision\"].isin([\"allvideo\", \"cumulative\"])]\n",
    "\n",
    "    runs_u_metrics[\"full_name\"] = runs_u_metrics[\"tags.mlflow.runName\"].apply(lambda x: x[:x.find(\"_k\")])\n",
    "    runs_u_metrics[\"full_name_unique\"] = runs_u_metrics[\"tags.mlflow.runName\"].apply(lambda x: x[:x.find(\"_k\")+3])\n",
    "\n",
    "    runs_u_metrics = runs_u_metrics.drop_duplicates(subset=[\"full_name_unique\"])\n",
    "\n",
    "    runs_metrics = runs_u_metrics.filter(regex=\"^metrics\", axis=1)\n",
    "    runs_metrics = runs_metrics.join(runs_u_metrics[[\"task\", \"decision\" ,\"full_name\" ,\"full_name_unique\"]])\n",
    "\n",
    "    runs_metrics.to_csv(save_results_file)\n",
    "else:\n",
    "    runs_u_metrics = pd.read_csv(save_results_file, index_col=0)\n",
    "    "
   ]
  },
  {
   "cell_type": "code",
   "execution_count": null,
   "metadata": {},
   "outputs": [],
   "source": [
    "metrics = [\"metrics.midv-holo-test_fscore\", \"metrics.midv-holo-pr-notseen_recall\", \"metrics.midv-2020_recall\"]"
   ]
  },
  {
   "cell_type": "code",
   "execution_count": null,
   "metadata": {},
   "outputs": [],
   "source": [
    "df_display_str = runs_u_metrics.groupby([\"task\", \"decision\"])[metrics].agg(lambda x: f\"{np.rint(x.mean()*100).astype(np.int32)} ± {np.rint(x.std()*100).astype(np.int32)}\" if len(x) == 5 and not np.isnan(x).max() else np.nan)\n",
    "df_display_str = df_display_str.dropna()"
   ]
  },
  {
   "cell_type": "code",
   "execution_count": null,
   "metadata": {},
   "outputs": [],
   "source": [
    "df_display_str"
   ]
  },
  {
   "cell_type": "code",
   "execution_count": null,
   "metadata": {},
   "outputs": [],
   "source": [
    "print(df_display_str.to_markdown())"
   ]
  },
  {
   "cell_type": "markdown",
   "metadata": {},
   "source": [
    "Result of the previous cell:\n",
    "|                                                       | metrics.midv-holo-test_fscore   | metrics.midv-holo-pr-notseen_recall   | metrics.midv-2020_recall   |\n",
    "|:------------------------------------------------------|:--------------------------------|:--------------------------------------|:---------------------------|\n",
    "| ('classifier_mobilenetv3_small_050', 'allvideo')      | 89 ± 3                          | 77 ± 12                               | 44 ± 7                     |\n",
    "| ('classifier_mobilevit_xxs', 'allvideo')              | 94 ± 3                          | 85 ± 11                               | 59 ± 4                     |\n",
    "| ('classifier_resnet18', 'allvideo')                   | 92 ± 1                          | 76 ± 10                               | 76 ± 14                    |\n",
    "| ('imagenet_mobilenetv3_small_050', 'allvideo')        | 73 ± 6                          | 81 ± 15                               | 61 ± 19                    |\n",
    "| ('imagenet_mobilevit_xxs', 'allvideo')                | 67 ± 1                          | 92 ± 10                               | 82 ± 7                     |\n",
    "| ('imagenet_resnet18', 'allvideo')                     | 77 ± 7                          | 76 ± 19                               | 59 ± 16                    |\n",
    "| ('midv_baseline_roi', 'allvideo')                     | 80 ± 3                          | 63 ± 10                               | 92 ± 2                     |\n",
    "| ('midv_baseline_roi', 'cumulative')                   | 82 ± 4                          | 66 ± 10                               | 93 ± 0                     |\n",
    "| ('wsl_mobilenetv3_small_050', 'allvideo')             | 88 ± 3                          | 93 ± 8                                | 92 ± 5                     |\n",
    "| ('wsl_mobilevit_xxs', 'allvideo')                     | 90 ± 2                          | 87 ± 14                               | 93 ± 6                     |\n",
    "| ('wsl_mobilevit_xxs', 'cumulative')                   | 86 ± 5                          | 84 ± 11                               | 94 ± 4                     |\n",
    "| ('wsl_noaugment_mobilenetv3_small_050', 'allvideo')   | 83 ± 6                          | 75 ± 17                               | 86 ± 7                     |\n",
    "| ('wsl_noaugment_mobilevit_xxs', 'allvideo')           | 87 ± 12                         | 65 ± 20                               | 87 ± 7                     |\n",
    "| ('wsl_noaugment_resnet18', 'allvideo')                | 88 ± 6                          | 81 ± 13                               | 83 ± 5                     |\n",
    "| ('wsl_onlyorigins_mobilenetv3_small_050', 'allvideo') | 82 ± 7                          | 89 ± 11                               | 94 ± 4                     |\n",
    "| ('wsl_onlyorigins_mobilevit_xxs', 'allvideo')         | 84 ± 4                          | 87 ± 18                               | 89 ± 9                     |\n",
    "| ('wsl_onlyorigins_resnet18', 'allvideo')              | 83 ± 2                          | 84 ± 13                               | 87 ± 8                     |\n",
    "| ('wsl_resnet18', 'allvideo')                          | 88 ± 2                          | 91 ± 7                                | 93 ± 5                     |"
   ]
  },
  {
   "cell_type": "code",
   "execution_count": null,
   "metadata": {},
   "outputs": [],
   "source": [
    "print(df_display_str.to_latex())"
   ]
  },
  {
   "cell_type": "markdown",
   "metadata": {},
   "source": [
    "## Results by decision"
   ]
  },
  {
   "cell_type": "markdown",
   "metadata": {},
   "source": [
    "## Table 2\n",
    "### Whole video"
   ]
  },
  {
   "cell_type": "code",
   "execution_count": null,
   "metadata": {},
   "outputs": [],
   "source": [
    "decision = \"allvideo\"\n",
    "allvideo = runs_u_metrics[runs_u_metrics[\"decision\"] == decision].groupby([\"task\"])[metrics].agg(lambda x: f\"{np.rint(x.mean()*100).astype(np.int32)} ± {np.rint(x.std()*100).astype(np.int32)}\" if len(x) == 5 else None)\n",
    "print(decision)\n",
    "# allvideo"
   ]
  },
  {
   "cell_type": "code",
   "execution_count": null,
   "metadata": {},
   "outputs": [],
   "source": [
    "print(decision)\n",
    "allvideo[allvideo.index.str.startswith(\"wsl_mobilevit\")|allvideo.index.str.startswith(\"midv\")]"
   ]
  },
  {
   "cell_type": "code",
   "execution_count": null,
   "metadata": {},
   "outputs": [],
   "source": [
    "print(allvideo[allvideo.index.str.startswith(\"wsl_mobilevit\")|allvideo.index.str.startswith(\"midv\")].to_latex())"
   ]
  },
  {
   "cell_type": "code",
   "execution_count": null,
   "metadata": {},
   "outputs": [],
   "source": [
    "print(allvideo[allvideo.index.str.startswith(\"wsl_mobilevit\")|allvideo.index.str.startswith(\"midv\")].to_markdown())"
   ]
  },
  {
   "cell_type": "markdown",
   "metadata": {},
   "source": [
    "result of the previous cell:\n",
    "| task              | metrics.midv-holo-test_fscore   | metrics.midv-holo-pr-notseen_recall   | metrics.midv-2020_recall   |\n",
    "|:------------------|:--------------------------------|:--------------------------------------|:---------------------------|\n",
    "| midv_baseline_roi | 80 ± 3                          | 63 ± 10                               | 92 ± 2                     |\n",
    "| wsl_mobilevit_xxs | 90 ± 2                          | 87 ± 14                               | 93 ± 6                     |\n",
    "\n",
    "### Cumulative"
   ]
  },
  {
   "cell_type": "code",
   "execution_count": null,
   "metadata": {},
   "outputs": [],
   "source": [
    "decision = \"cumulative\"\n",
    "cumulative = runs_u_metrics[runs_u_metrics[\"decision\"] == decision].groupby([\"task\"])[metrics].agg(lambda x: f\"{np.rint(x.mean()*100).astype(np.int32)} ± {np.rint(x.std()*100).astype(np.int32)}\" if len(x) == 5 and not np.isnan(x).max() else None)\n",
    "cumulative = cumulative.dropna()\n",
    "print(decision)\n",
    "print(cumulative[cumulative.index.str.startswith(\"wsl_mobilevit\")|cumulative.index.str.startswith(\"midv\")].to_latex())"
   ]
  },
  {
   "cell_type": "code",
   "execution_count": null,
   "metadata": {},
   "outputs": [],
   "source": [
    "print(cumulative[cumulative.index.str.startswith(\"wsl_mobilevit\")|cumulative.index.str.startswith(\"midv_baseline_roi\")].to_markdown())"
   ]
  },
  {
   "cell_type": "markdown",
   "metadata": {},
   "source": [
    "result of the previous cell (cumulative):\n",
    "| task              | metrics.midv-holo-test_fscore   | metrics.midv-holo-pr-notseen_recall   | metrics.midv-2020_recall   |\n",
    "|:------------------|:--------------------------------|:--------------------------------------|:---------------------------|\n",
    "| midv_baseline_roi | 82 ± 4                          | 66 ± 10                               | 93 ± 0                     |\n",
    "| wsl_mobilevit_xxs | 86 ± 5                          | 84 ± 11                               | 94 ± 4                     |"
   ]
  },
  {
   "cell_type": "code",
   "execution_count": null,
   "metadata": {},
   "outputs": [],
   "source": [
    "print(\"MIDV baseline Full document in cumulative over the train/test splits\")\n",
    "if set([\"metrics.midv-holo-test-fulldoc_fscore\", \"metrics.midv-holo-pr-notseen-fulldoc_recall\",\"metrics.midv-2020-fulldoc_recall\"]).issubset(runs_u_metrics.columns):\n",
    "    df_display_str2 = runs_u_metrics.groupby([\"task\", \"decision\"])[[\"metrics.midv-holo-test-fulldoc_fscore\", \"metrics.midv-holo-pr-notseen-fulldoc_recall\",\"metrics.midv-2020-fulldoc_recall\"]].agg(lambda x: f\"{np.rint(x.mean()*100).astype(np.int32)} ± {np.rint(x.std()*100).astype(np.int32)}\" if len(x) == 5 and not np.isnan(x).max() else None)\n",
    "    df_display_str2 = df_display_str2.dropna()\n",
    "    print(df_display_str2.to_latex())"
   ]
  },
  {
   "cell_type": "markdown",
   "metadata": {},
   "source": [
    "result of the previous cell\n",
    "```latex\n",
    "\\begin{tabular}{lllll}\n",
    "\\toprule\n",
    " &  & metrics.midv-holo-test-fulldoc_fscore & metrics.midv-holo-pr-notseen-fulldoc_recall & metrics.midv-2020-fulldoc_recall \\\\\n",
    "task & decision &  &  &  \\\\\n",
    "\\midrule\n",
    "midv_baseline_fulldoc & cumulative & 77 ± 1 & 27 ± 12 & 84 ± 5 \\\\\n",
    "\\cline{1-5}\n",
    "\\bottomrule\n",
    "\\end{tabular}\n",
    "```"
   ]
  },
  {
   "cell_type": "markdown",
   "metadata": {},
   "source": [
    "## Table 3\n",
    "### Ablation study on whole video "
   ]
  },
  {
   "cell_type": "code",
   "execution_count": null,
   "metadata": {},
   "outputs": [],
   "source": [
    "decision = \"allvideo\"\n",
    "allvideo = runs_u_metrics[runs_u_metrics[\"decision\"] == decision].groupby([\"task\"])[metrics].agg(lambda x: f\"{np.rint(x.mean()*100).astype(np.int32)} ± {np.rint(x.std()*100).astype(np.int32)}\" if len(x) == 5 else None)\n",
    "print(decision)\n",
    "allvideo"
   ]
  },
  {
   "cell_type": "code",
   "execution_count": null,
   "metadata": {},
   "outputs": [],
   "source": [
    "print(allvideo.to_markdown())"
   ]
  },
  {
   "cell_type": "markdown",
   "metadata": {},
   "source": [
    "result of the previous cell\n",
    "| task                                  | metrics.midv-holo-test_fscore   | metrics.midv-holo-pr-notseen_recall   | metrics.midv-2020_recall   |\n",
    "|:--------------------------------------|:--------------------------------|:--------------------------------------|:---------------------------|\n",
    "| classifier_mobilenetv3_small_050      | 89 ± 3                          | 77 ± 12                               | 44 ± 7                     |\n",
    "| classifier_mobilevit_xxs              | 94 ± 3                          | 85 ± 11                               | 59 ± 4                     |\n",
    "| classifier_resnet18                   | 92 ± 1                          | 76 ± 10                               | 76 ± 14                    |\n",
    "| imagenet_mobilenetv3_small_050        | 73 ± 6                          | 81 ± 15                               | 61 ± 19                    |\n",
    "| imagenet_mobilevit_xxs                | 67 ± 1                          | 92 ± 10                               | 82 ± 7                     |\n",
    "| imagenet_resnet18                     | 77 ± 7                          | 76 ± 19                               | 59 ± 16                    |\n",
    "| midv_baseline_roi                     | 80 ± 3                          | 63 ± 10                               | 92 ± 2                     |\n",
    "| wsl_mobilenetv3_small_050             | 88 ± 3                          | 93 ± 8                                | 92 ± 5                     |\n",
    "| wsl_mobilevit_xxs                     | 90 ± 2                          | 87 ± 14                               | 93 ± 6                     |\n",
    "| wsl_noaugment_mobilenetv3_small_050   | 83 ± 6                          | 75 ± 17                               | 86 ± 7                     |\n",
    "| wsl_noaugment_mobilevit_xxs           | 87 ± 12                         | 65 ± 20                               | 87 ± 7                     |\n",
    "| wsl_noaugment_resnet18                | 88 ± 6                          | 81 ± 13                               | 83 ± 5                     |\n",
    "| wsl_onlyorigins_mobilenetv3_small_050 | 82 ± 7                          | 89 ± 11                               | 94 ± 4                     |\n",
    "| wsl_onlyorigins_mobilevit_xxs         | 84 ± 4                          | 87 ± 18                               | 89 ± 9                     |\n",
    "| wsl_onlyorigins_resnet18              | 83 ± 2                          | 84 ± 13                               | 87 ± 8                     |\n",
    "| wsl_resnet18                          | 88 ± 2                          | 91 ± 7                                | 93 ± 5                     |"
   ]
  },
  {
   "cell_type": "code",
   "execution_count": null,
   "metadata": {},
   "outputs": [],
   "source": [
    "print(\"Weakly supervised models trained on different architectures\")\n",
    "res = allvideo[allvideo.index.str.startswith(\"wsl_mobile\")|allvideo.index.str.startswith(\"wsl_resnet\")]\n",
    "res"
   ]
  },
  {
   "cell_type": "code",
   "execution_count": null,
   "metadata": {},
   "outputs": [],
   "source": [
    "print(\"Weakly supervised models trained on different architectures\")\n",
    "print(res.to_latex())"
   ]
  },
  {
   "cell_type": "code",
   "execution_count": null,
   "metadata": {},
   "outputs": [],
   "source": [
    "print(\"No augmentations\")\n",
    "res = allvideo[allvideo.index.str.startswith(\"wsl_noa\")]\n",
    "res"
   ]
  },
  {
   "cell_type": "code",
   "execution_count": null,
   "metadata": {},
   "outputs": [],
   "source": [
    "print(\"No augmentations\")\n",
    "print(res.to_latex())"
   ]
  },
  {
   "cell_type": "code",
   "execution_count": null,
   "metadata": {},
   "outputs": [],
   "source": [
    "print(\"Classifier\")\n",
    "res = allvideo[allvideo.index.str.startswith(\"classifier\")]\n",
    "print(res.to_latex())"
   ]
  },
  {
   "cell_type": "code",
   "execution_count": null,
   "metadata": {},
   "outputs": [],
   "source": [
    "print(\"Only trained on originals\")\n",
    "res = allvideo[allvideo.index.str.startswith(\"wsl_onlyorigins\")]\n",
    "print(res.to_latex())"
   ]
  },
  {
   "cell_type": "code",
   "execution_count": null,
   "metadata": {},
   "outputs": [],
   "source": [
    "print(\"Only trained on ImageNet\")\n",
    "res = allvideo[allvideo.index.str.startswith(\"imagenet\")]\n",
    "print(res.to_latex())"
   ]
  }
 ],
 "metadata": {
  "kernelspec": {
   "display_name": ".venv",
   "language": "python",
   "name": "python3"
  },
  "language_info": {
   "codemirror_mode": {
    "name": "ipython",
    "version": 3
   },
   "file_extension": ".py",
   "mimetype": "text/x-python",
   "name": "python",
   "nbconvert_exporter": "python",
   "pygments_lexer": "ipython3",
   "version": "3.10.12"
  }
 },
 "nbformat": 4,
 "nbformat_minor": 2
}
